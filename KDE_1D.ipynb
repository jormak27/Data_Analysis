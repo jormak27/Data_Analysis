{
 "metadata": {
  "name": "",
  "signature": "sha256:d6ecebf7d15f709bfdde1d9b9cb3bba27df845341889fbbf819848e7f75eb92c"
 },
 "nbformat": 3,
 "nbformat_minor": 0,
 "worksheets": [
  {
   "cells": [
    {
     "cell_type": "code",
     "collapsed": false,
     "input": [
      "import numpy as np\n",
      "import matplotlib.pyplot as plt\n",
      "from scipy.stats import norm\n",
      "from sklearn.neighbors import KernelDensity\n",
      "\n",
      "#----------------------------------------------------------------------\n",
      "# Plot a 1D density example\n",
      "N = 100\n",
      "np.random.seed(1)\n",
      "X = np.concatenate((np.random.normal(0, 1, int(0.3 * N) ),\n",
      "                    np.random.normal(5, 1, int(0.7 * N) )))[:, np.newaxis]\n",
      "\n",
      "X_plot = np.linspace(-5, 10, 1000)[:, np.newaxis]\n",
      "\n",
      "true_dens = (0.3 * norm(0, 1).pdf(X_plot[:, 0])\n",
      "             + 0.7 * norm(5, 1).pdf(X_plot[:, 0]))\n",
      "\n",
      "fig, ax = plt.subplots()\n",
      "ax.fill(X_plot[:, 0], true_dens, fc='black', alpha=0.2,\n",
      "        label='input distribution')"
     ],
     "language": "python",
     "metadata": {},
     "outputs": [
      {
       "metadata": {},
       "output_type": "pyout",
       "prompt_number": 19,
       "text": [
        "[<matplotlib.patches.Polygon at 0x10dcfac90>]"
       ]
      }
     ],
     "prompt_number": 19
    },
    {
     "cell_type": "code",
     "collapsed": false,
     "input": [
      "for kernel in ['gaussian', 'tophat', 'epanechnikov']:\n",
      "    kde = KernelDensity(kernel=kernel, bandwidth=0.5).fit(X)\n",
      "    log_dens = kde.score_samples(X_plot)\n",
      "    ax.plot(X_plot[:, 0], np.exp(log_dens), '-',\n",
      "            label=\"kernel = '{0}'\".format(kernel))\n",
      "\n",
      "ax.text(6, 0.38, \"N={0} points\".format(N))\n",
      "\n",
      "ax.legend(loc='upper left')\n",
      "ax.plot(X[:, 0], -0.005 - 0.01 * np.random.random(X.shape[0]), '+k')\n",
      "\n",
      "ax.set_xlim(-4, 9)\n",
      "ax.set_ylim(-0.02, 0.4)\n",
      "plt.show()"
     ],
     "language": "python",
     "metadata": {},
     "outputs": [],
     "prompt_number": 20
    },
    {
     "cell_type": "code",
     "collapsed": false,
     "input": [],
     "language": "python",
     "metadata": {},
     "outputs": [],
     "prompt_number": 20
    }
   ],
   "metadata": {}
  }
 ]
}