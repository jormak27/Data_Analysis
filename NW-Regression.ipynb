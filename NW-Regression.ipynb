{
 "metadata": {
  "name": "",
  "signature": "sha256:0705f1c0d5b6b9d5fcb6ebcdd6de4f1d1f5855dae45eab73047cf31637fa24a2"
 },
 "nbformat": 3,
 "nbformat_minor": 0,
 "worksheets": [
  {
   "cells": [
    {
     "cell_type": "code",
     "collapsed": false,
     "input": [
      "import numpy as np\n",
      "import matplotlib.pyplot as plt\n",
      "from sklearn import neighbors\n",
      "\n",
      "np.random.seed(0)\n",
      "X = np.sort(5 * np.random.rand(40, 1), axis=0)\n",
      "T = np.linspace(0, 5, 500)[:, np.newaxis]\n",
      "y = np.sin(X).ravel()\n",
      "\n",
      "# Add noise to targets\n",
      "y[::5] += 1 * (0.5 - np.random.rand(8))\n",
      "\n",
      "###############################################################################\n",
      "# Fit regression model\n",
      "n_neighbors = 5\n",
      "\n",
      "def NW(d):\n",
      "    return 1/d\n",
      "\n",
      "print NW(np.array([1, 2, 3]))\n",
      "\n",
      "for i, weights in enumerate(['uniform', 'distance', NW]):\n",
      "    knn = neighbors.KNeighborsRegressor(n_neighbors, weights=weights)\n",
      "    y_ = knn.fit(X, y).predict(T)\n",
      "\n",
      "    plt.subplot(3, 1, i + 1)\n",
      "    plt.scatter(X, y, c='k', label='data')\n",
      "    plt.plot(T, y_, c='g', label='prediction')\n",
      "    plt.axis('tight')\n",
      "    plt.legend()\n",
      "    plt.title(\"KNeighborsRegressor (k = %i, weights = '%s')\" % (n_neighbors,\n",
      "                                                                weights))\n",
      "\n",
      "plt.show()"
     ],
     "language": "python",
     "metadata": {},
     "outputs": [
      {
       "output_type": "stream",
       "stream": "stdout",
       "text": [
        "w: 0.0\n",
        "res: [ 0.  0.  0.]\n",
        "[ 0.  0.  0.]\n",
        "w:"
       ]
      },
      {
       "output_type": "stream",
       "stream": "stdout",
       "text": [
        " 100.064600699\n",
        "res: [[  6.81841340e-020   6.43342951e-023   1.15386819e-274   0.00000000e+000\n",
        "    0.00000000e+000]\n",
        " [  5.05818686e-016   9.76318818e-019   1.99679830e-259   0.00000000e+000\n",
        "    0.00000000e+000]\n",
        " [  1.37489497e-012   5.42880057e-015   1.26612128e-244   0.00000000e+000\n",
        "    0.00000000e+000]\n",
        " ..., \n",
        " [  4.11039112e-017   1.82214441e-057   1.01259725e-143   6.73266955e-149\n",
        "    9.58202086e-270]\n",
        " [  4.12729908e-021   1.01928148e-064   4.17274579e-155   1.74909832e-160\n",
        "    2.79672653e-285]\n",
        " [  1.51848969e-025   2.08914501e-072   6.30043055e-167   1.66496174e-172\n",
        "    2.99092834e-301]]\n"
       ]
      }
     ],
     "prompt_number": 25
    }
   ],
   "metadata": {}
  }
 ]
}